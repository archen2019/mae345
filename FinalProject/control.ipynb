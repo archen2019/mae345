{
 "cells": [
  {
   "cell_type": "markdown",
   "id": "339c2a13",
   "metadata": {},
   "source": [
    "## imports"
   ]
  },
  {
   "cell_type": "code",
   "execution_count": 1,
   "id": "d75afd7c",
   "metadata": {},
   "outputs": [],
   "source": [
    "from multiprocessing import Event, Lock, Pool, Queue, Value\n",
    "import time\n",
    "\n",
    "import cv2\n",
    "import matplotlib.pyplot as plt\n",
    "import numpy as np\n",
    "\n",
    "import cflib.crtp\n",
    "from cflib.crazyflie import Crazyflie\n",
    "from cflib.crazyflie.log import LogConfig\n",
    "from cflib.crazyflie.syncCrazyflie import SyncCrazyflie\n",
    "from cflib.crazyflie.syncLogger import SyncLogger\n",
    "from cflib.positioning.position_hl_commander import PositionHlCommander\n",
    "from cflib.positioning.motion_commander import MotionCommander"
   ]
  },
  {
   "cell_type": "markdown",
   "id": "05897925",
   "metadata": {},
   "source": [
    "## constants"
   ]
  },
  {
   "cell_type": "code",
   "execution_count": 2,
   "id": "49ab218d",
   "metadata": {},
   "outputs": [],
   "source": [
    "group_number = 4\n",
    "uri = f'radio://0/{group_number}/2M'\n",
    "camera = 2\n",
    "delay_ms = 0\n",
    "frame_buf_maxsize = 5\n",
    "cmd_buf_maxsize = 10\n",
    "buf_timeout = 1\n",
    "log_period_ms = 50"
   ]
  },
  {
   "cell_type": "markdown",
   "id": "08f2dfe9",
   "metadata": {},
   "source": [
    "## camera check"
   ]
  },
  {
   "cell_type": "code",
   "execution_count": 3,
   "id": "73d40a4c",
   "metadata": {},
   "outputs": [],
   "source": [
    "# cap = cv2.VideoCapture(camera)\n",
    "\n",
    "# while(True):\n",
    "#     # Capture frame-by-frame\n",
    "#     ret, frame = cap.read()\n",
    "\n",
    "#     # Compute\n",
    "#     cv2.imshow('frame', frame)    \n",
    "\n",
    "#     # Hit q to quit.\n",
    "#     if cv2.waitKey(1) & 0xFF == ord('q'):\n",
    "#         break\n",
    "\n",
    "# # Release the capture\n",
    "# cap.release()\n",
    "# cv2.destroyAllWindows()\n",
    "# del cap"
   ]
  },
  {
   "cell_type": "markdown",
   "id": "22db2f5b",
   "metadata": {},
   "source": [
    "## cf helper functions"
   ]
  },
  {
   "cell_type": "code",
   "execution_count": 4,
   "id": "9b33e8a1",
   "metadata": {},
   "outputs": [],
   "source": [
    "def wait_for_position_estimator(scf):\n",
    "    print('Waiting for estimator to find position...')\n",
    "\n",
    "    log_config = LogConfig(name='Kalman Variance', period_in_ms=500)\n",
    "    log_config.add_variable('kalman.varPX', 'float')\n",
    "    log_config.add_variable('kalman.varPY', 'float')\n",
    "    log_config.add_variable('kalman.varPZ', 'float')\n",
    "\n",
    "    var_y_history = [1000] * 10\n",
    "    var_x_history = [1000] * 10\n",
    "    var_z_history = [1000] * 10\n",
    "\n",
    "    threshold = 0.001\n",
    "    with SyncLogger(scf, log_config) as logger:\n",
    "        for log_entry in logger:\n",
    "            data = log_entry[1]\n",
    "\n",
    "            var_x_history.append(data['kalman.varPX'])\n",
    "            var_x_history.pop(0)\n",
    "            var_y_history.append(data['kalman.varPY'])\n",
    "            var_y_history.pop(0)\n",
    "            var_z_history.append(data['kalman.varPZ'])\n",
    "            var_z_history.pop(0)\n",
    "\n",
    "            min_x = min(var_x_history)\n",
    "            max_x = max(var_x_history)\n",
    "            min_y = min(var_y_history)\n",
    "            max_y = max(var_y_history)\n",
    "            min_z = min(var_z_history)\n",
    "            max_z = max(var_z_history)\n",
    "\n",
    "            print(\"{} {} {}\".\n",
    "                format(max_x - min_x, max_y - min_y, max_z - min_z))\n",
    "\n",
    "            if (max_x - min_x) < threshold and (\n",
    "                    max_y - min_y) < threshold and (\n",
    "                    max_z - min_z) < threshold:\n",
    "                break\n",
    "\n",
    "def set_PID_controller(cf):\n",
    "    # Set the PID Controller:\n",
    "    print('Initializing PID Controller')\n",
    "    cf.param.set_value('stabilizer.controller', '1')\n",
    "    cf.param.set_value('kalman.resetEstimation', '1')\n",
    "    time.sleep(0.1)\n",
    "    cf.param.set_value('kalman.resetEstimation', '0')\n",
    "    \n",
    "    wait_for_position_estimator(cf)\n",
    "    time.sleep(0.1)"
   ]
  },
  {
   "cell_type": "markdown",
   "id": "92ff2e36",
   "metadata": {},
   "source": [
    "## init"
   ]
  },
  {
   "cell_type": "code",
   "execution_count": 5,
   "id": "eaa25cb9",
   "metadata": {},
   "outputs": [],
   "source": [
    "def position_callback(timestamp, data, log_conf):\n",
    "    with x_cur.get_lock():\n",
    "        x_cur.value = data['kalman.stateX']\n",
    "    with y_cur.get_lock():\n",
    "        y_cur.value = data['kalman.stateY']\n",
    "    with z_cur.get_lock():\n",
    "        z_cur.value = data['kalman.stateZ']\n",
    "\n",
    "def init(f_b, c_b, st, cf_, x_, y_, z_, cflock_):\n",
    "    global frame_buf, cmd_buf, stop, cf, x_cur, y_cur, z_cur, cflock\n",
    "    frame_buf = f_b\n",
    "    cmd_buf = c_b\n",
    "    stop = st\n",
    "    cf = cf_\n",
    "    x_cur = x_\n",
    "    y_cur = y_\n",
    "    z_cur = z_\n",
    "    cflock = cflock_\n",
    "#     start_time = time.perf_counter_ns()"
   ]
  },
  {
   "cell_type": "markdown",
   "id": "b566c719",
   "metadata": {},
   "source": [
    "## ascend"
   ]
  },
  {
   "cell_type": "code",
   "execution_count": 6,
   "id": "1939b245",
   "metadata": {},
   "outputs": [],
   "source": [
    "def ascend_and_hover():\n",
    "    print('ascending')\n",
    "            \n",
    "    # Ascend:\n",
    "    for y in range(10):\n",
    "        with cflock:\n",
    "            cf.commander.send_hover_setpoint(0, 0, 0, y / 10)\n",
    "        time.sleep(1)\n",
    "\n",
    "    # Hover at 1 meter:\n",
    "    for _ in range(20):\n",
    "        with cflock:\n",
    "            cf.commander.send_hover_setpoint(0, 0, 0, 1)\n",
    "        time.sleep(1)"
   ]
  },
  {
   "cell_type": "markdown",
   "id": "2d74f724",
   "metadata": {},
   "source": [
    "## capture"
   ]
  },
  {
   "cell_type": "code",
   "execution_count": 7,
   "id": "d82dae76",
   "metadata": {},
   "outputs": [],
   "source": [
    "def capture_frames(camera, delay_ms):\n",
    "    cap = cv2.VideoCapture(camera)\n",
    "    cap.set(cv2.CAP_PROP_BUFFERSIZE, 2)\n",
    "    \n",
    "    while cap.isOpened() and not stop.is_set():\n",
    "        ok, frame = cap.read()\n",
    "\n",
    "        if ok:\n",
    "            # TODO: make sure queue doesnt fill up\n",
    "            frame_buf.put_nowait(frame)\n",
    "        else:\n",
    "            break\n",
    "\n",
    "        time.sleep(delay_ms / 1000)\n",
    "            \n",
    "    cap.release()\n",
    "    frame_buf.close()"
   ]
  },
  {
   "cell_type": "markdown",
   "id": "3260d5ec",
   "metadata": {},
   "source": [
    "## planning"
   ]
  },
  {
   "cell_type": "code",
   "execution_count": 8,
   "id": "9c572e2e",
   "metadata": {},
   "outputs": [],
   "source": [
    "def process_frame(buf_timeout):\n",
    "    if failed:\n",
    "        return\n",
    "    \n",
    "    while not stop.is_set():\n",
    "        try:\n",
    "            frame = frame_buf.get(timeout=buf_timeout)\n",
    "        except Exception as e:\n",
    "            break\n",
    "\n",
    "        cmd_buf.put_nowait((0, 0, 1, 0))\n",
    "        \n",
    "    cmd_buf.close()"
   ]
  },
  {
   "cell_type": "markdown",
   "id": "91c396ee",
   "metadata": {},
   "source": [
    "## command"
   ]
  },
  {
   "cell_type": "code",
   "execution_count": 9,
   "id": "cd4b1775",
   "metadata": {},
   "outputs": [],
   "source": [
    "def send_command(buf_timeout):\n",
    "    while not stop.is_set():\n",
    "        try:\n",
    "            x, y, z, yaw = cmd_buf.get(timeout=buf_timeout)\n",
    "        except Exception as e:\n",
    "            break\n",
    "\n",
    "        cf.commander.send_position_setpoint(x, y, z, yaw)"
   ]
  },
  {
   "cell_type": "markdown",
   "id": "8f99c543",
   "metadata": {},
   "source": [
    "## descend"
   ]
  },
  {
   "cell_type": "code",
   "execution_count": 10,
   "id": "a23590b8",
   "metadata": {},
   "outputs": [],
   "source": [
    "def hover_and_descend():\n",
    "    print('descending')\n",
    "    \n",
    "    # Hover at 1 meter:\n",
    "    for _ in range(30):\n",
    "        cf.commander.send_hover_setpoint(0, 0, 0, 1)\n",
    "        time.sleep(0.1)\n",
    "    \n",
    "    # Descend:\n",
    "    for y in range(10):\n",
    "        cf.commander.send_hover_setpoint(0, 0, 0, (10 - y) / 10)\n",
    "        time.sleep(0.1)\n",
    "    \n",
    "    # Stop all motion:\n",
    "    for i in range(10):\n",
    "        cf.commander.send_stop_setpoint()\n",
    "        time.sleep(0.1)"
   ]
  },
  {
   "cell_type": "markdown",
   "id": "3840aa42",
   "metadata": {},
   "source": [
    "## main loop"
   ]
  },
  {
   "cell_type": "code",
   "execution_count": 11,
   "id": "5f2e21d5",
   "metadata": {},
   "outputs": [],
   "source": [
    "# TEMPORARY\n",
    "def f():\n",
    "    stop.set()"
   ]
  },
  {
   "cell_type": "code",
   "execution_count": 15,
   "id": "fb4c5bf0",
   "metadata": {
    "scrolled": true
   },
   "outputs": [
    {
     "name": "stdout",
     "output_type": "stream",
     "text": [
      "Scanning interfaces for Crazyflies...\n"
     ]
    },
    {
     "name": "stderr",
     "output_type": "stream",
     "text": [
      "Exception while scanning for Crazyflie USB: 'NoneType' object has no attribute 'bcdDevice'\n",
      "Exception while scanning for Crazyflie USB: 'NoneType' object has no attribute 'bcdDevice'\n",
      "Exception while scanning for Crazyflie USB: 'NoneType' object has no attribute 'bcdDevice'\n",
      "Exception while scanning for Crazyflie USB: 'NoneType' object has no attribute 'bcdDevice'\n"
     ]
    },
    {
     "name": "stdout",
     "output_type": "stream",
     "text": [
      "Crazyflies found:\n",
      "radio://0/4/2M\n",
      "radio://0/4/2M\n",
      "radio://0/4/2M\n",
      "radio://0/4/2M\n",
      "Initializing PID Controller\n",
      "Waiting for estimator to find position...\n",
      "999.9999879814131 999.9999879813467 999.9996973859961\n",
      "999.9999909447242 999.9999909448898 999.9998196867964\n",
      "999.9999909447242 999.9999909448898 999.9998196867964\n",
      "999.9999910405122 999.9999910405568 999.9998196867964\n",
      "999.9999910405122 999.9999910405568 999.9998207527242\n",
      "999.9999910405122 999.9999910405568 999.9998207527242\n",
      "999.9999910405122 999.9999910405568 999.9998207527242\n",
      "999.9999910405122 999.9999910405568 999.9998207527242\n",
      "999.9999910405122 999.9999910405568 999.9998207527242\n",
      "3.0590990718337707e-06 3.059210030187387e-06 0.00012962422624696046\n",
      "<cflib.crazyflie.Crazyflie object at 0x7fb620817e90>\n"
     ]
    }
   ],
   "source": [
    "frame_buf = Queue(frame_buf_maxsize)\n",
    "cmd_buf = Queue(cmd_buf_maxsize)\n",
    "stop = Event()\n",
    "x_cur = Value('f', 0)\n",
    "y_cur = Value('f', 0)\n",
    "z_cur = Value('f', 0)\n",
    "cflock = Lock()\n",
    "\n",
    "# Initialize all the CrazyFlie drivers:\n",
    "cflib.crtp.init_drivers(enable_debug_driver=False)\n",
    "\n",
    "# Scan for Crazyflies in range of the antenna:\n",
    "print('Scanning interfaces for Crazyflies...')\n",
    "available = cflib.crtp.scan_interfaces()\n",
    "\n",
    "# List local CrazyFlie devices:\n",
    "print('Crazyflies found:')\n",
    "for i in available:\n",
    "    print(i[0])\n",
    "\n",
    "if len(available) == 0:\n",
    "    print('FAILED! FAILED! FAILED!')\n",
    "    # TODO: just exit out\n",
    "\n",
    "scf = SyncCrazyflie(uri, cf=Crazyflie(rw_cache='./cache'))\n",
    "scf.open_link()\n",
    "cf = scf.cf\n",
    "\n",
    "set_PID_controller(cf)\n",
    "\n",
    "# log_conf = LogConfig(name='Position', period_in_ms=log_period_ms)\n",
    "# log_conf.add_variable('kalman.stateX', 'float')\n",
    "# log_conf.add_variable('kalman.stateY', 'float')\n",
    "# log_conf.add_variable('kalman.stateZ', 'float')\n",
    "\n",
    "# scf.cf.log.add_config(log_conf)\n",
    "# log_conf.data_received_cb.add_callback(position_callback)\n",
    "# log_conf.start()\n",
    "\n",
    "# Ascend:\n",
    "for y in range(10):\n",
    "    cf.commander.send_hover_setpoint(0, 0, 0, y / 10)\n",
    "    time.sleep(0.1)\n",
    "\n",
    "# Hover at 1 meter:\n",
    "for _ in range(20):\n",
    "    cf.commander.send_hover_setpoint(0, 0, 0, 1)\n",
    "    time.sleep(0.1)\n",
    "    \n",
    "for y in range(10):\n",
    "    cf.commander.send_hover_setpoint(0, 0, 0, (10 - y) / 10)\n",
    "    time.sleep(0.1)\n",
    "\n",
    "for i in range(10):\n",
    "    cf.commander.send_stop_setpoint()\n",
    "    time.sleep(0.1)\n",
    "\n",
    "# pool = Pool(1, initializer=init, initargs=(frame_buf, cmd_buf, stop, cf, x_cur, y_cur, z_cur, cflock))\n",
    "\n",
    "# pool.apply(ascend_and_hover)\n",
    "\n",
    "# capture_frames_future = pool.apply_async(capture_frames, args=(camera, delay_ms))\n",
    "# process_frame_future = pool.apply_async(process_frame, args=(buf_timeout,))\n",
    "# send_command_future = pool.apply_async(send_command, args=(buf_timeout,))\n",
    "\n",
    "# time.sleep(2)\n",
    "# pool.apply(f)\n",
    "\n",
    "# capture_frames_future.get()\n",
    "# process_frame_future.get()\n",
    "# send_command_future.get()\n",
    "\n",
    "# pool.apply(hover_and_descend)\n",
    "\n",
    "# pool.close()\n",
    "# pool.join()\n",
    "scf.close_link()"
   ]
  },
  {
   "cell_type": "markdown",
   "id": "94ccedf8",
   "metadata": {},
   "source": [
    "# TODO\n",
    "\n",
    "* check cf init\n",
    "* actually think about detection\n",
    "* keep track of position?"
   ]
  }
 ],
 "metadata": {
  "kernelspec": {
   "display_name": "Python 3 (ipykernel)",
   "language": "python",
   "name": "python3"
  },
  "language_info": {
   "codemirror_mode": {
    "name": "ipython",
    "version": 3
   },
   "file_extension": ".py",
   "mimetype": "text/x-python",
   "name": "python",
   "nbconvert_exporter": "python",
   "pygments_lexer": "ipython3",
   "version": "3.7.13"
  }
 },
 "nbformat": 4,
 "nbformat_minor": 5
}
