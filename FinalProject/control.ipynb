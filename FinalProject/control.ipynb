{
 "cells": [
  {
   "cell_type": "markdown",
   "id": "8e3e8b54",
   "metadata": {},
   "source": [
    "## imports"
   ]
  },
  {
   "cell_type": "code",
   "execution_count": 203,
   "id": "08b8ccaf",
   "metadata": {},
   "outputs": [],
   "source": [
    "from multiprocessing import Event, Pool, Queue\n",
    "import time\n",
    "\n",
    "import cv2\n",
    "import numpy as np\n",
    "\n",
    "import cflib.crtp\n",
    "from cflib.crazyflie import Crazyflie\n",
    "from cflib.crazyflie.log import LogConfig\n",
    "from cflib.crazyflie.syncCrazyflie import SyncCrazyflie\n",
    "from cflib.crazyflie.syncLogger import SyncLogger\n",
    "from cflib.positioning.position_hl_commander import PositionHlCommander\n",
    "from cflib.positioning.motion_commander import MotionCommander"
   ]
  },
  {
   "cell_type": "markdown",
   "id": "62bde0fc",
   "metadata": {},
   "source": [
    "## constants"
   ]
  },
  {
   "cell_type": "code",
   "execution_count": 204,
   "id": "7c533aef",
   "metadata": {},
   "outputs": [],
   "source": [
    "group_number = 4\n",
    "uri = f'radio://0/{group_number}/2M'\n",
    "camera = 2\n",
    "delay_ms = 0\n",
    "frame_buf_maxsize = 5\n",
    "cmd_buf_maxsize = 10\n",
    "buf_timeout = 1"
   ]
  },
  {
   "cell_type": "markdown",
   "id": "7c97e9be",
   "metadata": {},
   "source": [
    "## cf helper functions"
   ]
  },
  {
   "cell_type": "code",
   "execution_count": 205,
   "id": "b60c2b59",
   "metadata": {},
   "outputs": [],
   "source": [
    "def wait_for_position_estimator(scf):\n",
    "    print('Waiting for estimator to find position...')\n",
    "\n",
    "    log_config = LogConfig(name='Kalman Variance', period_in_ms=500)\n",
    "    log_config.add_variable('kalman.varPX', 'float')\n",
    "    log_config.add_variable('kalman.varPY', 'float')\n",
    "    log_config.add_variable('kalman.varPZ', 'float')\n",
    "\n",
    "    var_y_history = [1000] * 10\n",
    "    var_x_history = [1000] * 10\n",
    "    var_z_history = [1000] * 10\n",
    "\n",
    "    threshold = 0.001\n",
    "    with SyncLogger(scf, log_config) as logger:\n",
    "        for log_entry in logger:\n",
    "            data = log_entry[1]\n",
    "\n",
    "            var_x_history.append(data['kalman.varPX'])\n",
    "            var_x_history.pop(0)\n",
    "            var_y_history.append(data['kalman.varPY'])\n",
    "            var_y_history.pop(0)\n",
    "            var_z_history.append(data['kalman.varPZ'])\n",
    "            var_z_history.pop(0)\n",
    "\n",
    "            min_x = min(var_x_history)\n",
    "            max_x = max(var_x_history)\n",
    "            min_y = min(var_y_history)\n",
    "            max_y = max(var_y_history)\n",
    "            min_z = min(var_z_history)\n",
    "            max_z = max(var_z_history)\n",
    "\n",
    "            print(\"{} {} {}\".\n",
    "                format(max_x - min_x, max_y - min_y, max_z - min_z))\n",
    "\n",
    "            if (max_x - min_x) < threshold and (\n",
    "                    max_y - min_y) < threshold and (\n",
    "                    max_z - min_z) < threshold:\n",
    "                break\n",
    "\n",
    "def set_PID_controller(cf):\n",
    "    # Set the PID Controller:\n",
    "    print('Initializing PID Controller')\n",
    "    cf.param.set_value('stabilizer.controller', '1')\n",
    "    cf.param.set_value('kalman.resetEstimation', '1')\n",
    "    time.sleep(0.1)\n",
    "    cf.param.set_value('kalman.resetEstimation', '0')\n",
    "    \n",
    "    wait_for_position_estimator(cf)\n",
    "    time.sleep(0.1)\n",
    "    return"
   ]
  },
  {
   "cell_type": "markdown",
   "id": "f99c4f0e",
   "metadata": {},
   "source": [
    "## init"
   ]
  },
  {
   "cell_type": "code",
   "execution_count": 206,
   "id": "c78fcc2e",
   "metadata": {},
   "outputs": [],
   "source": [
    "def init_cf():\n",
    "    # Initialize all the CrazyFlie drivers:\n",
    "    cflib.crtp.init_drivers(enable_debug_driver=False)\n",
    "\n",
    "    # Scan for Crazyflies in range of the antenna:\n",
    "    print('Scanning interfaces for Crazyflies...')\n",
    "    available = cflib.crtp.scan_interfaces()\n",
    "\n",
    "    # List local CrazyFlie devices:\n",
    "    print('Crazyflies found:')\n",
    "    for i in available:\n",
    "        print(i[0])\n",
    "        \n",
    "    if len(available) == 0:\n",
    "        try:\n",
    "            raise Exception('No Crazyflies found, cannot run example')\n",
    "        except:\n",
    "            return None\n",
    "        \n",
    "    scf = SyncCrazyflie(uri, cf=Crazyflie(rw_cache='./cache'))\n",
    "    \n",
    "    set_PID_controller(scf.cf)\n",
    "    \n",
    "    return scf.cf\n",
    "\n",
    "def init(f_b, c_b, st):\n",
    "    global frame_buf, cmd_buf, stop, cf, start_time, failed\n",
    "    frame_buf = f_b\n",
    "    cmd_buf = c_b\n",
    "    stop = st\n",
    "#     cf = init_cf()\n",
    "    cf = 1\n",
    "    start_time = time.perf_counter_ns()\n",
    "    failed = False\n",
    "    \n",
    "    if cf is None:\n",
    "        failed = True"
   ]
  },
  {
   "cell_type": "markdown",
   "id": "1e23c5df",
   "metadata": {},
   "source": [
    "## ascend"
   ]
  },
  {
   "cell_type": "code",
   "execution_count": null,
   "id": "e499ddc4",
   "metadata": {},
   "outputs": [],
   "source": [
    "def ascend_and_hover():\n",
    "    if failed:\n",
    "        return\n",
    "    \n",
    "    # Ascend:\n",
    "    for y in range(10):\n",
    "        cf.commander.send_hover_setpoint(0, 0, 0, y / 10)\n",
    "        time.sleep(0.1)\n",
    "    \n",
    "    # Hover at 1 meter:\n",
    "    for _ in range(20):\n",
    "        cf.commander.send_hover_setpoint(0, 0, 0, 1)\n",
    "        time.sleep(0.1)"
   ]
  },
  {
   "cell_type": "markdown",
   "id": "c81f8879",
   "metadata": {},
   "source": [
    "## capture"
   ]
  },
  {
   "cell_type": "code",
   "execution_count": 207,
   "id": "ab8576ad",
   "metadata": {},
   "outputs": [],
   "source": [
    "def capture_frames(camera, delay_ms):\n",
    "    if failed:\n",
    "        return\n",
    "    \n",
    "    cap = cv2.VideoCapture(camera)\n",
    "    cap.set(cv2.CAP_PROP_BUFFERSIZE, 2)\n",
    "    \n",
    "    while cap.isOpened() and not stop.is_set():\n",
    "        ok, frame = cap.read()\n",
    "\n",
    "        if ok:\n",
    "            # TODO: make sure queue doesnt fill up\n",
    "            frame_buf.put_nowait(frame)\n",
    "        else:\n",
    "            break\n",
    "\n",
    "        time.sleep(delay_ms / 1000)\n",
    "            \n",
    "    cap.release()\n",
    "    frame_buf.close()"
   ]
  },
  {
   "cell_type": "markdown",
   "id": "45b6d8bf",
   "metadata": {},
   "source": [
    "## planning"
   ]
  },
  {
   "cell_type": "code",
   "execution_count": 208,
   "id": "dd13c3d2",
   "metadata": {},
   "outputs": [],
   "source": [
    "def process_frame(buf_timeout):\n",
    "    if failed:\n",
    "        return\n",
    "    \n",
    "    while not stop.is_set():\n",
    "        try:\n",
    "            frame = frame_buf.get(timeout=buf_timeout)\n",
    "        except Exception as e:\n",
    "            break\n",
    "\n",
    "        cmd_buf.put_nowait((1, 1, 1, 0))\n",
    "        \n",
    "    cmd_buf.close()"
   ]
  },
  {
   "cell_type": "markdown",
   "id": "49d1101b",
   "metadata": {},
   "source": [
    "## command"
   ]
  },
  {
   "cell_type": "code",
   "execution_count": 209,
   "id": "365483bb",
   "metadata": {},
   "outputs": [],
   "source": [
    "def send_command(buf_timeout):\n",
    "    if failed:\n",
    "        return\n",
    "    \n",
    "    while not stop.is_set():\n",
    "        try:\n",
    "            x, y, z, yaw = cmd_buf.get(timeout=buf_timeout)\n",
    "        except Exception as e:\n",
    "            break\n",
    "\n",
    "#         cf.commander.send_position_setpoint(x, y, z, yaw)"
   ]
  },
  {
   "cell_type": "markdown",
   "id": "bdb19d26",
   "metadata": {},
   "source": [
    "## descend"
   ]
  },
  {
   "cell_type": "code",
   "execution_count": null,
   "id": "3789db30",
   "metadata": {},
   "outputs": [],
   "source": [
    "def hover_and_descend():\n",
    "    if failed:\n",
    "        return\n",
    "    \n",
    "    # Hover at 1 meter:\n",
    "    for _ in range(30):\n",
    "        cf.commander.send_hover_setpoint(0, 0, 0, 1)\n",
    "        time.sleep(0.1)\n",
    "    \n",
    "    # Descend:\n",
    "    for y in range(10):\n",
    "        cf.commander.send_hover_setpoint(0, 0, 0, (10 - y) / 10)\n",
    "        time.sleep(0.1)\n",
    "    \n",
    "    # Stop all motion:\n",
    "    for i in range(10):\n",
    "        cf.commander.send_stop_setpoint()\n",
    "        time.sleep(0.1)"
   ]
  },
  {
   "cell_type": "markdown",
   "id": "0f0e10dd",
   "metadata": {},
   "source": [
    "## main loop"
   ]
  },
  {
   "cell_type": "code",
   "execution_count": 210,
   "id": "87347ac9",
   "metadata": {},
   "outputs": [],
   "source": [
    "# TEMPORARY\n",
    "def f():\n",
    "    stop.set()"
   ]
  },
  {
   "cell_type": "code",
   "execution_count": 211,
   "id": "483e597b",
   "metadata": {
    "scrolled": true
   },
   "outputs": [],
   "source": [
    "frame_buf = Queue(frame_buf_maxsize)\n",
    "cmd_buf = Queue(cmd_buf_maxsize)\n",
    "stop = Event()\n",
    "\n",
    "pool = Pool(6, initializer=init, initargs=(frame_buf, cmd_buf, stop))\n",
    "\n",
    "ascend_future = pool.apply(ascend_and_hover)\n",
    "\n",
    "capture_frames_future = pool.apply_async(capture_frames, args=(camera, delay_ms))\n",
    "process_frame_future = pool.apply_async(process_frame, args=(buf_timeout,))\n",
    "send_command_future = pool.apply_async(send_command, args=(buf_timeout,))\n",
    "\n",
    "descend_future = pool.apply(hover_and_descend)\n",
    "\n",
    "time.sleep(5)\n",
    "f_future = pool.apply_async(f)\n",
    "\n",
    "pool.close()\n",
    "pool.join()"
   ]
  },
  {
   "cell_type": "markdown",
   "id": "3d5acab1",
   "metadata": {},
   "source": [
    "# TODO\n",
    "\n",
    "* check cf init\n",
    "* close things before descent\n",
    "* actually think about detection\n",
    "* keep track of position?\n",
    "* figure out how to trigger descent"
   ]
  }
 ],
 "metadata": {
  "kernelspec": {
   "display_name": "Python 3 (ipykernel)",
   "language": "python",
   "name": "python3"
  },
  "language_info": {
   "codemirror_mode": {
    "name": "ipython",
    "version": 3
   },
   "file_extension": ".py",
   "mimetype": "text/x-python",
   "name": "python",
   "nbconvert_exporter": "python",
   "pygments_lexer": "ipython3",
   "version": "3.7.13"
  }
 },
 "nbformat": 4,
 "nbformat_minor": 5
}
