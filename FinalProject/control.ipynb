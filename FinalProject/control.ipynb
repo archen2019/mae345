{
 "cells": [
  {
   "cell_type": "markdown",
   "id": "8e3e8b54",
   "metadata": {},
   "source": [
    "## imports"
   ]
  },
  {
   "cell_type": "code",
   "execution_count": 1,
   "id": "08b8ccaf",
   "metadata": {},
   "outputs": [],
   "source": [
    "from multiprocessing import Event, Pool, Queue\n",
    "import time\n",
    "\n",
    "import cv2\n",
    "import numpy as np\n",
    "\n",
    "import cflib.crtp\n",
    "from cflib.crazyflie import Crazyflie\n",
    "from cflib.crazyflie.log import LogConfig\n",
    "from cflib.crazyflie.syncCrazyflie import SyncCrazyflie\n",
    "from cflib.crazyflie.syncLogger import SyncLogger\n",
    "from cflib.positioning.position_hl_commander import PositionHlCommander\n",
    "from cflib.positioning.motion_commander import MotionCommander"
   ]
  },
  {
   "cell_type": "markdown",
   "id": "62bde0fc",
   "metadata": {},
   "source": [
    "## constants"
   ]
  },
  {
   "cell_type": "code",
   "execution_count": 2,
   "id": "7c533aef",
   "metadata": {},
   "outputs": [],
   "source": [
    "group_number = 4\n",
    "uri = f'radio://0/{group_number}/2M'\n",
    "camera = 2\n",
    "fps = 60\n",
    "frame_buf_maxsize = 5"
   ]
  },
  {
   "cell_type": "markdown",
   "id": "7c97e9be",
   "metadata": {},
   "source": [
    "## cf helper functions"
   ]
  },
  {
   "cell_type": "code",
   "execution_count": 3,
   "id": "b60c2b59",
   "metadata": {},
   "outputs": [],
   "source": [
    "def wait_for_position_estimator(scf):\n",
    "    print('Waiting for estimator to find position...')\n",
    "\n",
    "    log_config = LogConfig(name='Kalman Variance', period_in_ms=500)\n",
    "    log_config.add_variable('kalman.varPX', 'float')\n",
    "    log_config.add_variable('kalman.varPY', 'float')\n",
    "    log_config.add_variable('kalman.varPZ', 'float')\n",
    "\n",
    "    var_y_history = [1000] * 10\n",
    "    var_x_history = [1000] * 10\n",
    "    var_z_history = [1000] * 10\n",
    "\n",
    "    threshold = 0.001\n",
    "    with SyncLogger(scf, log_config) as logger:\n",
    "        for log_entry in logger:\n",
    "            data = log_entry[1]\n",
    "\n",
    "            var_x_history.append(data['kalman.varPX'])\n",
    "            var_x_history.pop(0)\n",
    "            var_y_history.append(data['kalman.varPY'])\n",
    "            var_y_history.pop(0)\n",
    "            var_z_history.append(data['kalman.varPZ'])\n",
    "            var_z_history.pop(0)\n",
    "\n",
    "            min_x = min(var_x_history)\n",
    "            max_x = max(var_x_history)\n",
    "            min_y = min(var_y_history)\n",
    "            max_y = max(var_y_history)\n",
    "            min_z = min(var_z_history)\n",
    "            max_z = max(var_z_history)\n",
    "\n",
    "            print(\"{} {} {}\".\n",
    "                format(max_x - min_x, max_y - min_y, max_z - min_z))\n",
    "\n",
    "            if (max_x - min_x) < threshold and (\n",
    "                    max_y - min_y) < threshold and (\n",
    "                    max_z - min_z) < threshold:\n",
    "                break\n",
    "\n",
    "def set_PID_controller(cf):\n",
    "    # Set the PID Controller:\n",
    "    print('Initializing PID Controller')\n",
    "    cf.param.set_value('stabilizer.controller', '1')\n",
    "    cf.param.set_value('kalman.resetEstimation', '1')\n",
    "    time.sleep(0.1)\n",
    "    cf.param.set_value('kalman.resetEstimation', '0')\n",
    "    \n",
    "    wait_for_position_estimator(cf)\n",
    "    time.sleep(0.1)\n",
    "    return"
   ]
  },
  {
   "cell_type": "markdown",
   "id": "f99c4f0e",
   "metadata": {},
   "source": [
    "## init"
   ]
  },
  {
   "cell_type": "code",
   "execution_count": 4,
   "id": "c78fcc2e",
   "metadata": {},
   "outputs": [],
   "source": [
    "def init_cf():\n",
    "    # Initialize all the CrazyFlie drivers:\n",
    "    cflib.crtp.init_drivers(enable_debug_driver=False)\n",
    "\n",
    "    # Scan for Crazyflies in range of the antenna:\n",
    "    print('Scanning interfaces for Crazyflies...')\n",
    "    available = cflib.crtp.scan_interfaces()\n",
    "\n",
    "    # List local CrazyFlie devices:\n",
    "    print('Crazyflies found:')\n",
    "    for i in available:\n",
    "        print(i[0])\n",
    "        \n",
    "    if len(available) == 0:\n",
    "        try:\n",
    "            raise Exception('No Crazyflies found, cannot run example')\n",
    "        except:\n",
    "            return None\n",
    "        \n",
    "    scf = SyncCrazyflie(uri, cf=Crazyflie(rw_cache='./cache'))\n",
    "    \n",
    "    return scf.cf\n",
    "\n",
    "def init(f_b, st):\n",
    "    global frame_buf, stop, cf, failed\n",
    "    frame_buf = f_b\n",
    "    stop = st\n",
    "    cf = init_cf()\n",
    "    failed = False\n",
    "    \n",
    "    if cf is None:\n",
    "        failed = True"
   ]
  },
  {
   "cell_type": "markdown",
   "id": "c81f8879",
   "metadata": {},
   "source": [
    "## video capture"
   ]
  },
  {
   "cell_type": "code",
   "execution_count": 5,
   "id": "ab8576ad",
   "metadata": {},
   "outputs": [],
   "source": [
    "def capture_frames(camera, fps):\n",
    "    if failed:\n",
    "        return\n",
    "    \n",
    "    cap = cv2.VideoCapture(camera)\n",
    "    cap.set(cv2.CAP_PROP_BUFFERSIZE, 2)\n",
    "    \n",
    "    while not stop.is_set():\n",
    "        ok, frame = cap.read()\n",
    "\n",
    "        if ok:\n",
    "            # TODO: make sure queue doesnt fill up\n",
    "            frame_buf.put_nowait(frame)\n",
    "        else:\n",
    "            break\n",
    "\n",
    "        time.sleep(1 / fps)\n",
    "            \n",
    "    cap.release()\n",
    "    cv2.destroyAllWindows()"
   ]
  },
  {
   "cell_type": "markdown",
   "id": "45b6d8bf",
   "metadata": {},
   "source": [
    "## planning"
   ]
  },
  {
   "cell_type": "code",
   "execution_count": 6,
   "id": "dd13c3d2",
   "metadata": {},
   "outputs": [],
   "source": [
    "def process_frame():\n",
    "    if failed:\n",
    "        return\n",
    "    # read frame and return next position\n",
    "    pass"
   ]
  },
  {
   "cell_type": "markdown",
   "id": "49d1101b",
   "metadata": {},
   "source": [
    "## control drone"
   ]
  },
  {
   "cell_type": "code",
   "execution_count": 7,
   "id": "365483bb",
   "metadata": {},
   "outputs": [],
   "source": [
    "def send_control():\n",
    "    if failed:\n",
    "        return\n",
    "    # send control input to drone\n",
    "    pass"
   ]
  },
  {
   "cell_type": "markdown",
   "id": "0f0e10dd",
   "metadata": {},
   "source": [
    "## main loop"
   ]
  },
  {
   "cell_type": "code",
   "execution_count": 8,
   "id": "87347ac9",
   "metadata": {},
   "outputs": [],
   "source": [
    "# TEMPORARY\n",
    "def f():\n",
    "    stop.set()"
   ]
  },
  {
   "cell_type": "code",
   "execution_count": 9,
   "id": "483e597b",
   "metadata": {
    "scrolled": true
   },
   "outputs": [
    {
     "name": "stdout",
     "output_type": "stream",
     "text": [
      "Scanning interfaces for Crazyflies...\n",
      "Scanning interfaces for Crazyflies...\n",
      "Scanning interfaces for Crazyflies...Cannot find a Crazyradio Dongle\n",
      "\n",
      "Scanning interfaces for Crazyflies..."
     ]
    },
    {
     "name": "stderr",
     "output_type": "stream",
     "text": [
      "Exception while scanning for Crazyflie USB: 'NoneType' object has no attribute 'bcdDevice'\n"
     ]
    },
    {
     "name": "stdout",
     "output_type": "stream",
     "text": [
      "Cannot find a Crazyradio Dongle\n",
      "Crazyflies found:\n",
      "Scanning interfaces for Crazyflies...\n"
     ]
    },
    {
     "name": "stderr",
     "output_type": "stream",
     "text": [
      "Exception while scanning for Crazyflie USB: 'NoneType' object has no attribute 'bcdDevice'\n"
     ]
    },
    {
     "name": "stdout",
     "output_type": "stream",
     "text": [
      "Cannot find a Crazyradio Dongle\n",
      "Crazyflies found:\n",
      "\n",
      "Scanning interfaces for Crazyflies...\n"
     ]
    },
    {
     "name": "stderr",
     "output_type": "stream",
     "text": [
      "Exception while scanning for Crazyflie USB: 'NoneType' object has no attribute 'bcdDevice'\n"
     ]
    },
    {
     "name": "stdout",
     "output_type": "stream",
     "text": [
      "Cannot find a Crazyradio DongleCrazyflies found:\n",
      "\n"
     ]
    },
    {
     "name": "stderr",
     "output_type": "stream",
     "text": [
      "Exception while scanning for Crazyflie USB: 'NoneType' object has no attribute 'bcdDevice'\n"
     ]
    },
    {
     "name": "stdout",
     "output_type": "stream",
     "text": [
      "Crazyflies found:Cannot find a Crazyradio Dongle\n",
      "\n"
     ]
    },
    {
     "name": "stderr",
     "output_type": "stream",
     "text": [
      "Exception while scanning for Crazyflie USB: 'NoneType' object has no attribute 'bcdDevice'\n"
     ]
    },
    {
     "name": "stdout",
     "output_type": "stream",
     "text": [
      "Cannot find a Crazyradio DongleCrazyflies found:\n",
      "\n"
     ]
    },
    {
     "name": "stderr",
     "output_type": "stream",
     "text": [
      "Exception while scanning for Crazyflie USB: 'NoneType' object has no attribute 'bcdDevice'\n"
     ]
    },
    {
     "name": "stdout",
     "output_type": "stream",
     "text": [
      "Crazyflies found:\n"
     ]
    }
   ],
   "source": [
    "frame_buf = Queue(frame_buf_maxsize)\n",
    "stop = Event()\n",
    "\n",
    "pool = Pool(6, initializer=init, initargs=(frame_buf, stop))\n",
    "\n",
    "capture_future = pool.apply_async(capture_frames, args=(camera, fps))\n",
    "time.sleep(1)\n",
    "f_future = pool.apply_async(f)\n",
    "\n",
    "pool.close()\n",
    "pool.join()"
   ]
  },
  {
   "cell_type": "code",
   "execution_count": null,
   "id": "f26f012e",
   "metadata": {},
   "outputs": [],
   "source": []
  }
 ],
 "metadata": {
  "kernelspec": {
   "display_name": "Python 3 (ipykernel)",
   "language": "python",
   "name": "python3"
  },
  "language_info": {
   "codemirror_mode": {
    "name": "ipython",
    "version": 3
   },
   "file_extension": ".py",
   "mimetype": "text/x-python",
   "name": "python",
   "nbconvert_exporter": "python",
   "pygments_lexer": "ipython3",
   "version": "3.7.13"
  }
 },
 "nbformat": 4,
 "nbformat_minor": 5
}
